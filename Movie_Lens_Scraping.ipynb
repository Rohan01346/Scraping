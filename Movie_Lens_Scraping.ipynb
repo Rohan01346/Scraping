{
  "nbformat": 4,
  "nbformat_minor": 0,
  "metadata": {
    "colab": {
      "provenance": []
    },
    "kernelspec": {
      "name": "python3",
      "display_name": "Python 3"
    },
    "language_info": {
      "name": "python"
    }
  },
  "cells": [
    {
      "cell_type": "code",
      "execution_count": null,
      "metadata": {
        "id": "eDuzSMtdwhYq"
      },
      "outputs": [],
      "source": [
        "#import libraries\n",
        "import pandas as pd\n",
        "import numpy as np\n",
        "from bs4 import BeautifulSoup as bs\n",
        "import re\n",
        "import json\n",
        "import requests"
      ]
    },
    {
      "cell_type": "code",
      "source": [
        "#initializing empty lists\n",
        "title = []\n",
        "imdbMovieId = []\n",
        "movielensid = []\n",
        "genres = []\n",
        "languages = []\n",
        "actors=[]\n",
        "directors=[]\n",
        "plotSummary=[]\n",
        "avgRating=[]\n",
        "\n",
        "#scrape data\n",
        "response = requests.get('https://movielens.org/api/movies/explore?tag=dramatic,good%20acting,intense&hasRated=no&sortBy=prediction' ,headers={\"Cookie\":\"ml4_session=4babf0ac8785723f11b347a072ed6793e1b7a99a_6a7a1873-18b5-453a-9868-fa6f83c6c772; uvts=008f0ca6-c44b-4d01-6001-3c80735f28e4\"})\n",
        "for j in range(2,28):\n",
        "  response = requests.get('https://movielens.org/api/movies/explore?tag=dramatic,good%20acting,intense&hasRated=no&sortBy=prediction&page='+str(j) ,headers={\"Cookie\":\"ml4_session=4babf0ac8785723f11b347a072ed6793e1b7a99a_6a7a1873-18b5-453a-9868-fa6f83c6c772; uvts=008f0ca6-c44b-4d01-6001-3c80735f28e4\"})\n",
        "  results = response.json()[\"data\"][\"searchResults\"]\n",
        "  for i in results:\n",
        "    title.append(i[\"movie\"][\"title\"])\n",
        "    imdbMovieId.append(i[\"movie\"][\"imdbMovieId\"])\n",
        "    movielensid.append(i[\"movie\"][\"movieId\"])\n",
        "    genres.append(i[\"movie\"][\"genres\"])\n",
        "    languages.append(i[\"movie\"][\"languages\"])\n",
        "    actors.append(i[\"movie\"][\"actors\"])\n",
        "    directors.append(i[\"movie\"][\"directors\"])\n",
        "    plotSummary.append(i[\"movie\"][\"plotSummary\"])\n",
        "    avgRating.append(i[\"movie\"][\"avgRating\"])\n",
        "\n",
        "#convert scraped data to pandas dataframe and save it in csv format\n",
        "data = pd.DataFrame({\"Title\":title,\"imdbMovieId\":imdbMovieId,\"movielensid\":movielensid,\"Average Rating\":avgRating,\"genres\":genres,\"languages\":languages,\"actors\":actors,\"directors\":directors,\"plotSummary\":plotSummary})\n",
        "data.to_csv('mydata.csv', index=False)"
      ],
      "metadata": {
        "id": "65x3M5WPxJ4-"
      },
      "execution_count": null,
      "outputs": []
    }
  ]
}